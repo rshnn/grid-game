{
 "cells": [
  {
   "cell_type": "code",
   "execution_count": 1,
   "metadata": {},
   "outputs": [],
   "source": [
    "import numpy as np"
   ]
  },
  {
   "cell_type": "code",
   "execution_count": 2,
   "metadata": {},
   "outputs": [],
   "source": [
    "from state import State\n",
    "import utilities"
   ]
  },
  {
   "cell_type": "code",
   "execution_count": 3,
   "metadata": {},
   "outputs": [
    {
     "name": "stdout",
     "output_type": "stream",
     "text": [
      "[[0. 0. 0. 0. 0.]\n",
      " [0. 1. 0. 0. 0.]\n",
      " [0. 0. 0. 0. 0.]\n",
      " [0. 0. 0. 0. 0.]\n",
      " [0. 0. 0. 0. 0.]]\n"
     ]
    }
   ],
   "source": [
    "s0 = State([1, 1], )\n",
    "s0.grid.print()"
   ]
  },
  {
   "cell_type": "code",
   "execution_count": 4,
   "metadata": {},
   "outputs": [
    {
     "name": "stdout",
     "output_type": "stream",
     "text": [
      "Solving for initial coords: (0, 0)...done\n",
      "Solving for initial coords: (0, 1)...done\n",
      "Solving for initial coords: (0, 2)...done\n",
      "Solving for initial coords: (0, 3)...done\n",
      "Solving for initial coords: (0, 4)...done\n",
      "Solving for initial coords: (1, 0)...done\n",
      "Solving for initial coords: (1, 1)...done\n",
      "Solving for initial coords: (1, 2)...done\n",
      "Solving for initial coords: (1, 3)...done\n",
      "Solving for initial coords: (1, 4)...done\n",
      "Solving for initial coords: (2, 0)...done\n",
      "Solving for initial coords: (2, 1)...done\n",
      "Solving for initial coords: (2, 2)...done\n",
      "Solving for initial coords: (2, 3)...done\n",
      "Solving for initial coords: (2, 4)...done\n",
      "Solving for initial coords: (3, 0)...done\n",
      "Solving for initial coords: (3, 1)...done\n",
      "Solving for initial coords: (3, 2)...done\n",
      "Solving for initial coords: (3, 3)...done\n",
      "Solving for initial coords: (3, 4)...done\n",
      "Solving for initial coords: (4, 0)...done\n",
      "Solving for initial coords: (4, 1)...done\n",
      "Solving for initial coords: (4, 2)...done\n",
      "Solving for initial coords: (4, 3)...done\n",
      "Solving for initial coords: (4, 4)...done\n"
     ]
    }
   ],
   "source": [
    "solutions = utilities.solve_for_solutions()"
   ]
  },
  {
   "cell_type": "code",
   "execution_count": null,
   "metadata": {},
   "outputs": [],
   "source": []
  },
  {
   "cell_type": "code",
   "execution_count": null,
   "metadata": {},
   "outputs": [],
   "source": []
  },
  {
   "cell_type": "code",
   "execution_count": 11,
   "metadata": {},
   "outputs": [],
   "source": [
    "total_grid = np.zeros([5, 5, 2])\n",
    "\n",
    "for s0, ans, count in solutions: \n",
    "#     print(s0, len(ans))\n",
    "    total_grid[s0[0], s0[1]] = (len(ans), count)"
   ]
  },
  {
   "cell_type": "code",
   "execution_count": 17,
   "metadata": {},
   "outputs": [],
   "source": [
    "sols_grid = total_grid[:,:,0]\n",
    "count_grid = total_grid[:,:,1]"
   ]
  },
  {
   "cell_type": "code",
   "execution_count": 26,
   "metadata": {},
   "outputs": [
    {
     "name": "stdout",
     "output_type": "stream",
     "text": [
      "number of solutions per starting square\n"
     ]
    },
    {
     "data": {
      "text/plain": [
       "array([[552., 548., 552., 548., 552.],\n",
       "       [548., 412., 400., 412., 548.],\n",
       "       [552., 400., 352., 400., 552.],\n",
       "       [548., 412., 400., 412., 548.],\n",
       "       [552., 548., 552., 548., 552.]])"
      ]
     },
     "execution_count": 26,
     "metadata": {},
     "output_type": "execute_result"
    }
   ],
   "source": [
    "print('number of solutions per starting square')\n",
    "sols_grid"
   ]
  },
  {
   "cell_type": "code",
   "execution_count": 25,
   "metadata": {},
   "outputs": [
    {
     "name": "stdout",
     "output_type": "stream",
     "text": [
      "total number of feasible paths per starting square\n"
     ]
    },
    {
     "data": {
      "text/plain": [
       "array([[103841.,  98517.,  98404.,  98517., 103841.],\n",
       "       [ 98517.,  95490.,  88884.,  95490.,  98517.],\n",
       "       [ 98404.,  88884.,  70269.,  88884.,  98404.],\n",
       "       [ 98517.,  95490.,  88884.,  95490.,  98517.],\n",
       "       [103841.,  98517.,  98404.,  98517., 103841.]])"
      ]
     },
     "execution_count": 25,
     "metadata": {},
     "output_type": "execute_result"
    }
   ],
   "source": [
    "print('total number of feasible paths per starting square')\n",
    "count_grid"
   ]
  },
  {
   "cell_type": "code",
   "execution_count": 27,
   "metadata": {},
   "outputs": [
    {
     "name": "stdout",
     "output_type": "stream",
     "text": [
      "ratio of solution paths to total feasible paths\n"
     ]
    },
    {
     "data": {
      "text/plain": [
       "array([[0.00531582, 0.00556249, 0.00560953, 0.00556249, 0.00531582],\n",
       "       [0.00556249, 0.00431459, 0.00450025, 0.00431459, 0.00556249],\n",
       "       [0.00560953, 0.00450025, 0.00500932, 0.00450025, 0.00560953],\n",
       "       [0.00556249, 0.00431459, 0.00450025, 0.00431459, 0.00556249],\n",
       "       [0.00531582, 0.00556249, 0.00560953, 0.00556249, 0.00531582]])"
      ]
     },
     "execution_count": 27,
     "metadata": {},
     "output_type": "execute_result"
    }
   ],
   "source": [
    "ratio_grid = (sols_grid/ count_grid)\n",
    "print('ratio of solution paths to total feasible paths')\n",
    "ratio_grid"
   ]
  },
  {
   "cell_type": "code",
   "execution_count": null,
   "metadata": {},
   "outputs": [],
   "source": []
  },
  {
   "cell_type": "code",
   "execution_count": 28,
   "metadata": {},
   "outputs": [
    {
     "data": {
      "image/png": "[encoded data removed]",
      "text/plain": [
       "<Figure size 432x288 with 2 Axes>"
      ]
     },
     "metadata": {
      "needs_background": "light"
     },
     "output_type": "display_data"
    }
   ],
   "source": [
    "import seaborn as sns \n",
    "fig = sns.heatmap(sols_grid, annot=True)\n",
    "fig.figure.axes[0].set_title('solutions per starting square');"
   ]
  },
  {
   "cell_type": "code",
   "execution_count": null,
   "metadata": {},
   "outputs": [],
   "source": [
    "utilities.plot_solved_grid(solutions[0][1][1].grid.grid);"
   ]
  },
  {
   "cell_type": "code",
   "execution_count": null,
   "metadata": {},
   "outputs": [],
   "source": [
    "utilities.plot_some_random_solution_idc_which_one(solutions);"
   ]
  },
  {
   "cell_type": "code",
   "execution_count": null,
   "metadata": {},
   "outputs": [],
   "source": []
  },
  {
   "cell_type": "code",
   "execution_count": null,
   "metadata": {},
   "outputs": [],
   "source": []
  }
 ],
 "metadata": {
  "kernelspec": {
   "display_name": "Python 3",
   "language": "python",
   "name": "python3"
  },
  "language_info": {
   "codemirror_mode": {
    "name": "ipython",
    "version": 3
   },
   "file_extension": ".py",
   "mimetype": "text/x-python",
   "name": "python",
   "nbconvert_exporter": "python",
   "pygments_lexer": "ipython3",
   "version": "3.7.1"
  }
 },
 "nbformat": 4,
 "nbformat_minor": 2
}
