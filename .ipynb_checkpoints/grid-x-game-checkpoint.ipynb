{
 "cells": [
  {
   "cell_type": "code",
   "execution_count": 1,
   "metadata": {
    "collapsed": true
   },
   "outputs": [],
   "source": [
    "import numpy as np\n",
    "import pandas as pd \n",
    "import matplotlib.pyplot as plt"
   ]
  },
  {
   "cell_type": "code",
   "execution_count": 2,
   "metadata": {},
   "outputs": [],
   "source": [
    "from game_map import GameMap, Run "
   ]
  },
  {
   "cell_type": "code",
   "execution_count": 3,
   "metadata": {},
   "outputs": [
    {
     "name": "stdout",
     "output_type": "stream",
     "text": [
      "[[ 0.  0.  0.  0.  0.]\n",
      " [ 0.  0.  0.  0.  0.]\n",
      " [ 0.  1.  0.  0.  0.]\n",
      " [ 0.  0.  0.  0.  0.]\n",
      " [ 0.  0.  0.  0.  0.]]\n"
     ]
    }
   ],
   "source": [
    "m = GameMap(5)\n",
    "m.set_current([1,2])\n",
    "m.print_board()"
   ]
  },
  {
   "cell_type": "code",
   "execution_count": 4,
   "metadata": {},
   "outputs": [
    {
     "name": "stdout",
     "output_type": "stream",
     "text": [
      "[[ 0.  0.  0.  0.  0.]\n",
      " [ 0.  1.  0.  0.  0.]\n",
      " [ 0.  1.  0.  0.  0.]\n",
      " [ 0.  0.  0.  0.  0.]\n",
      " [ 0.  0.  0.  0.  0.]]\n"
     ]
    }
   ],
   "source": [
    "m.move_cartesian('D')\n",
    "m.print_board()"
   ]
  },
  {
   "cell_type": "code",
   "execution_count": 5,
   "metadata": {},
   "outputs": [
    {
     "ename": "TypeError",
     "evalue": "move_unit() missing 1 required positional argument: 'grid'",
     "output_type": "error",
     "traceback": [
      "\u001b[0;31m---------------------------------------------------------------------------\u001b[0m",
      "\u001b[0;31mTypeError\u001b[0m                                 Traceback (most recent call last)",
      "\u001b[0;32m<ipython-input-5-d414741cc3b3>\u001b[0m in \u001b[0;36m<module>\u001b[0;34m()\u001b[0m\n\u001b[0;32m----> 1\u001b[0;31m \u001b[0mm\u001b[0m\u001b[0;34m.\u001b[0m\u001b[0mmove_unit\u001b[0m\u001b[0;34m(\u001b[0m\u001b[0;34m\"D\"\u001b[0m\u001b[0;34m)\u001b[0m\u001b[0;34m\u001b[0m\u001b[0m\n\u001b[0m",
      "\u001b[0;31mTypeError\u001b[0m: move_unit() missing 1 required positional argument: 'grid'"
     ]
    }
   ],
   "source": [
    "m.move_car(\"D\")"
   ]
  },
  {
   "cell_type": "code",
   "execution_count": null,
   "metadata": {
    "collapsed": true
   },
   "outputs": [],
   "source": []
  },
  {
   "cell_type": "code",
   "execution_count": null,
   "metadata": {
    "collapsed": true
   },
   "outputs": [],
   "source": []
  },
  {
   "cell_type": "code",
   "execution_count": null,
   "metadata": {
    "collapsed": true
   },
   "outputs": [],
   "source": []
  },
  {
   "cell_type": "code",
   "execution_count": null,
   "metadata": {
    "collapsed": true
   },
   "outputs": [],
   "source": []
  },
  {
   "cell_type": "code",
   "execution_count": 8,
   "metadata": {},
   "outputs": [
    {
     "data": {
      "text/plain": [
       "array([[ 0.,  0.,  0.,  0.,  0.],\n",
       "       [ 0.,  0.,  0.,  0.,  0.],\n",
       "       [ 0.,  0.,  0.,  0.,  0.],\n",
       "       [ 0.,  0.,  0.,  0.,  0.],\n",
       "       [ 0.,  0.,  0.,  0.,  0.]])"
      ]
     },
     "execution_count": 8,
     "metadata": {},
     "output_type": "execute_result"
    }
   ],
   "source": [
    "dimension = 5\n",
    "grid = np.zeros([dimension, dimension])\n",
    "grid"
   ]
  },
  {
   "cell_type": "code",
   "execution_count": 3,
   "metadata": {
    "collapsed": true
   },
   "outputs": [],
   "source": [
    "def can_i_move_here(coords, grid):\n",
    "    if grid[coords[0], coords[1]] > 0:\n",
    "        return False\n",
    "    else: \n",
    "        return True "
   ]
  },
  {
   "cell_type": "code",
   "execution_count": 4,
   "metadata": {},
   "outputs": [
    {
     "ename": "SyntaxError",
     "evalue": "invalid syntax (<ipython-input-4-21981075d56a>, line 2)",
     "output_type": "error",
     "traceback": [
      "\u001b[0;36m  File \u001b[0;32m\"<ipython-input-4-21981075d56a>\"\u001b[0;36m, line \u001b[0;32m2\u001b[0m\n\u001b[0;31m    col, row = position `\u001b[0m\n\u001b[0m                        ^\u001b[0m\n\u001b[0;31mSyntaxError\u001b[0m\u001b[0;31m:\u001b[0m invalid syntax\n"
     ]
    }
   ],
   "source": [
    "def move_unit(direction, position, grid):\n",
    "    col, row = position \n",
    "    \n",
    "    if direction == 'L':\n",
    "        col = col-1\n",
    "        if 0 <= col < dimension: \n",
    "            return [row, col]\n",
    "        else: \n",
    "            return False \n",
    "        \n",
    "    if direction == 'R':\n",
    "        col = col+1 \n",
    "        if 0 <= col < dimension: \n",
    "            return [row, col]\n",
    "        else: \n",
    "            return False \n",
    "    \n",
    "    if direction == 'D':\n",
    "        row = row + 1\n",
    "        if 0 <= row < dimension:\n",
    "            return [row, col]\n",
    "        else:\n",
    "            return False \n",
    "        \n",
    "        \n",
    "    if direction == 'U':\n",
    "        row = row - 1\n",
    "        if 0 <= row < dimension: \n",
    "            return [row, col]\n",
    "        else:\n",
    "            return False \n",
    "        \n",
    "    if direction == 'UR':\n",
    "        row = row - 1 \n",
    "        col = col - 1\n",
    "        if (0 < row < dimension-1) and (0 < col < dimension-1):\n",
    "\n",
    "            \n",
    "            \n",
    "            \n",
    "        "
   ]
  },
  {
   "cell_type": "code",
   "execution_count": null,
   "metadata": {
    "collapsed": true
   },
   "outputs": [],
   "source": [
    "\n",
    "# Direction is one of the following:  L R U D\n",
    "def move_cartesian(direction, position, grid):\n",
    "    if direction == 'L':\n",
    "        row, col = position\n",
    "        for i in range(1, 4):\n",
    "            if can_i_move_here([row, col+i], grid):\n",
    "                grid[row, col-i] = 1\n",
    "            else:\n",
    "                continue\n",
    "    \n",
    "    \n",
    "    elif direction == 'R':\n",
    "        row, col = position\n",
    "        for i in range(1, 4):\n",
    "            if can_i_move_here([row, col+i], grid):\n",
    "                grid[row, col+i] = 1\n",
    "            else:\n",
    "                continue\n",
    "    \n",
    "    elif direction == 'U':\n",
    "        pass\n",
    "    \n",
    "    elif direction == 'D':\n",
    "        pass\n",
    "    \n",
    "    else: \n",
    "        print('input error move_cartesian: {}'.format(direction))\n",
    "        pass \n",
    "    \n",
    "\n",
    "\n",
    "def move_diagonal(direction, position, grid):\n",
    "    pass\n",
    "    "
   ]
  },
  {
   "cell_type": "code",
   "execution_count": null,
   "metadata": {
    "collapsed": true
   },
   "outputs": [],
   "source": [
    "for i in range(dimension):\n",
    "    for j in range(dimension):\n",
    "        print(\"Start here: {0}, {1}\".format(i, j))\n",
    "        \n",
    "        "
   ]
  },
  {
   "cell_type": "code",
   "execution_count": null,
   "metadata": {
    "collapsed": true
   },
   "outputs": [],
   "source": []
  }
 ],
 "metadata": {
  "kernelspec": {
   "display_name": "Python 3",
   "language": "python",
   "name": "python3"
  },
  "language_info": {
   "codemirror_mode": {
    "name": "ipython",
    "version": 3
   },
   "file_extension": ".py",
   "mimetype": "text/x-python",
   "name": "python",
   "nbconvert_exporter": "python",
   "pygments_lexer": "ipython3",
   "version": "3.6.2"
  }
 },
 "nbformat": 4,
 "nbformat_minor": 2
}
