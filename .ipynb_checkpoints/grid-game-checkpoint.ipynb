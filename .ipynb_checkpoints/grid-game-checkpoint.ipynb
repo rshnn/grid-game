{
 "cells": [
  {
   "cell_type": "code",
   "execution_count": 1,
   "metadata": {},
   "outputs": [],
   "source": [
    "import numpy as np"
   ]
  },
  {
   "cell_type": "code",
   "execution_count": 2,
   "metadata": {},
   "outputs": [],
   "source": [
    "from state import State"
   ]
  },
  {
   "cell_type": "code",
   "execution_count": 3,
   "metadata": {},
   "outputs": [
    {
     "name": "stdout",
     "output_type": "stream",
     "text": [
      "[[0. 0. 0. 0. 0.]\n",
      " [0. 1. 0. 0. 0.]\n",
      " [0. 0. 0. 0. 0.]\n",
      " [0. 0. 0. 0. 0.]\n",
      " [0. 0. 0. 0. 0.]]\n"
     ]
    }
   ],
   "source": [
    "s0 = State([1, 1], )\n",
    "s0.grid.print()"
   ]
  },
  {
   "cell_type": "code",
   "execution_count": 4,
   "metadata": {},
   "outputs": [
    {
     "name": "stdout",
     "output_type": "stream",
     "text": [
      "[[4. 4. 4. 3. 0.]\n",
      " [5. 1. 6. 3. 0.]\n",
      " [5. 6. 2. 3. 0.]\n",
      " [5. 0. 0. 2. 0.]\n",
      " [0. 0. 0. 0. 0.]]\n"
     ]
    }
   ],
   "source": [
    "dirs = \"DR U L D UR\".split()\n",
    "s = s0\n",
    "for direction in dirs: \n",
    "    new_s = s.apply_move(direction)\n",
    "    s = new_s\n",
    "s.grid.print()"
   ]
  },
  {
   "cell_type": "code",
   "execution_count": null,
   "metadata": {},
   "outputs": [],
   "source": []
  },
  {
   "cell_type": "code",
   "execution_count": 51,
   "metadata": {},
   "outputs": [],
   "source": [
    "def try_run(starting_coords):\n",
    "    s0 = State(starting_coords)\n",
    "    state, path = recursive_run(s0, list())\n",
    "    return state, path \n",
    "    "
   ]
  },
  {
   "cell_type": "code",
   "execution_count": 55,
   "metadata": {},
   "outputs": [],
   "source": [
    "def recursive_run(state, path):\n",
    "    \n",
    "    if state.grid.solved(): \n",
    "        print('~wtf pass')\n",
    "        return state, path\n",
    "\n",
    "    else: \n",
    "        for direction in \"U D L R UR UL DR DL\".split():\n",
    "            if state.is_move_possible(direction) is False:\n",
    "                continue\n",
    "            else: \n",
    "                new_state = state.apply_move(direction)\n",
    "                path.append(direction)\n",
    "                print(path)\n",
    "                s, p = recursive_run(new_state, path)\n",
    "                if s is False: \n",
    "                    continue\n",
    "                else: \n",
    "                    return s, p\n",
    "    \n",
    "    return False, path "
   ]
  },
  {
   "cell_type": "code",
   "execution_count": null,
   "metadata": {},
   "outputs": [],
   "source": []
  },
  {
   "cell_type": "code",
   "execution_count": 56,
   "metadata": {
    "scrolled": false
   },
   "outputs": [
    {
     "name": "stdout",
     "output_type": "stream",
     "text": [
      "['D']\n",
      "['D', 'R']\n",
      "['D', 'R', 'U']\n",
      "['D', 'R', 'U', 'DL']\n",
      "['D', 'R', 'U', 'DL', 'UL']\n",
      "['D', 'R', 'U', 'DL', 'UL', 'R']\n",
      "['D', 'R', 'U', 'DL', 'UL', 'R', 'D']\n",
      "['D', 'R', 'U', 'DL', 'UL', 'R', 'D', 'L']\n",
      "['D', 'R', 'U', 'DL', 'UL', 'R', 'D', 'L', 'UR']\n",
      "['D', 'R', 'U', 'DL', 'UL', 'R', 'D', 'L', 'UR', 'D']\n",
      "['D', 'R', 'U', 'DL', 'UL', 'R', 'D', 'L', 'UR', 'D', 'UR']\n",
      "['D', 'R', 'U', 'DL', 'UL', 'R', 'D', 'L', 'UR', 'D', 'UR', 'UL']\n",
      "['D', 'R', 'U', 'DL', 'UL', 'R', 'D', 'L', 'UR', 'D', 'UR', 'UL', 'DR']\n",
      "['D', 'R', 'U', 'DL', 'UL', 'R', 'D', 'L', 'UR', 'D', 'UR', 'UL', 'DR', 'U']\n",
      "['D', 'R', 'U', 'DL', 'UL', 'R', 'D', 'L', 'UR', 'D', 'UR', 'UL', 'DR', 'U', 'L']\n",
      "['D', 'R', 'U', 'DL', 'UL', 'R', 'D', 'L', 'UR', 'D', 'UR', 'UL', 'DR', 'U', 'L', 'DL']\n",
      "['D', 'R', 'U', 'DL', 'UL', 'R', 'D', 'L', 'UR', 'D', 'UR', 'UL', 'DR', 'U', 'L', 'DL', 'DR']\n",
      "['D', 'R', 'U', 'DL', 'UL', 'R', 'D', 'L', 'UR', 'D', 'UR', 'UL', 'DR', 'U', 'L', 'DL', 'DR', 'L']\n",
      "['D', 'R', 'U', 'DL', 'UL', 'R', 'D', 'L', 'UR', 'D', 'UR', 'UL', 'DR', 'U', 'L', 'DL', 'DR', 'L', 'DL']\n",
      "['D', 'R', 'U', 'DL', 'UL', 'R', 'D', 'L', 'UR', 'D', 'UR', 'UL', 'DR', 'U', 'L', 'DL', 'DR', 'L', 'DL', 'R']\n",
      "['D', 'R', 'U', 'DL', 'UL', 'R', 'D', 'L', 'UR', 'D', 'UR', 'UL', 'DR', 'U', 'L', 'DL', 'DR', 'L', 'DL', 'R', 'L']\n",
      "['D', 'R', 'U', 'DL', 'UL', 'R', 'D', 'L', 'UR', 'D', 'UR', 'UL', 'DR', 'U', 'L', 'DL', 'DR', 'L', 'DL', 'R', 'L', 'UR']\n",
      "['D', 'R', 'U', 'DL', 'UL', 'R', 'D', 'L', 'UR', 'D', 'UR', 'UL', 'DR', 'U', 'L', 'DL', 'DR', 'L', 'DL', 'R', 'L', 'UR', 'R']\n",
      "['D', 'R', 'U', 'DL', 'UL', 'R', 'D', 'L', 'UR', 'D', 'UR', 'UL', 'DR', 'U', 'L', 'DL', 'DR', 'L', 'DL', 'R', 'L', 'UR', 'R', 'D']\n",
      "['D', 'R', 'U', 'DL', 'UL', 'R', 'D', 'L', 'UR', 'D', 'UR', 'UL', 'DR', 'U', 'L', 'DL', 'DR', 'L', 'DL', 'R', 'L', 'UR', 'R', 'D', 'L']\n",
      "['D', 'R', 'U', 'DL', 'UL', 'R', 'D', 'L', 'UR', 'D', 'UR', 'UL', 'DR', 'U', 'L', 'DL', 'DR', 'L', 'DL', 'R', 'L', 'UR', 'R', 'D', 'L', 'UR']\n",
      "['D', 'R', 'U', 'DL', 'UL', 'R', 'D', 'L', 'UR', 'D', 'UR', 'UL', 'DR', 'U', 'L', 'DL', 'DR', 'L', 'DL', 'R', 'L', 'UR', 'R', 'D', 'L', 'UR', 'UL']\n",
      "['D', 'R', 'U', 'DL', 'UL', 'R', 'D', 'L', 'UR', 'D', 'UR', 'UL', 'DR', 'U', 'L', 'DL', 'DR', 'L', 'DL', 'R', 'L', 'UR', 'R', 'D', 'L', 'UR', 'UL', 'D']\n",
      "['D', 'R', 'U', 'DL', 'UL', 'R', 'D', 'L', 'UR', 'D', 'UR', 'UL', 'DR', 'U', 'L', 'DL', 'DR', 'L', 'DL', 'R', 'L', 'UR', 'R', 'D', 'L', 'UR', 'UL', 'D', 'R']\n",
      "['D', 'R', 'U', 'DL', 'UL', 'R', 'D', 'L', 'UR', 'D', 'UR', 'UL', 'DR', 'U', 'L', 'DL', 'DR', 'L', 'DL', 'R', 'L', 'UR', 'R', 'D', 'L', 'UR', 'UL', 'D', 'R', 'U']\n",
      "['D', 'R', 'U', 'DL', 'UL', 'R', 'D', 'L', 'UR', 'D', 'UR', 'UL', 'DR', 'U', 'L', 'DL', 'DR', 'L', 'DL', 'R', 'L', 'UR', 'R', 'D', 'L', 'UR', 'UL', 'D', 'R', 'U', 'DL']\n",
      "['D', 'R', 'U', 'DL', 'UL', 'R', 'D', 'L', 'UR', 'D', 'UR', 'UL', 'DR', 'U', 'L', 'DL', 'DR', 'L', 'DL', 'R', 'L', 'UR', 'R', 'D', 'L', 'UR', 'UL', 'D', 'R', 'U', 'DL', 'R']\n",
      "['D', 'R', 'U', 'DL', 'UL', 'R', 'D', 'L', 'UR', 'D', 'UR', 'UL', 'DR', 'U', 'L', 'DL', 'DR', 'L', 'DL', 'R', 'L', 'UR', 'R', 'D', 'L', 'UR', 'UL', 'D', 'R', 'U', 'DL', 'R', 'DL']\n",
      "['D', 'R', 'U', 'DL', 'UL', 'R', 'D', 'L', 'UR', 'D', 'UR', 'UL', 'DR', 'U', 'L', 'DL', 'DR', 'L', 'DL', 'R', 'L', 'UR', 'R', 'D', 'L', 'UR', 'UL', 'D', 'R', 'U', 'DL', 'R', 'DL', 'UL']\n",
      "['D', 'R', 'U', 'DL', 'UL', 'R', 'D', 'L', 'UR', 'D', 'UR', 'UL', 'DR', 'U', 'L', 'DL', 'DR', 'L', 'DL', 'R', 'L', 'UR', 'R', 'D', 'L', 'UR', 'UL', 'D', 'R', 'U', 'DL', 'R', 'DL', 'UL', 'DR']\n",
      "['D', 'R', 'U', 'DL', 'UL', 'R', 'D', 'L', 'UR', 'D', 'UR', 'UL', 'DR', 'U', 'L', 'DL', 'DR', 'L', 'DL', 'R', 'L', 'UR', 'R', 'D', 'L', 'UR', 'UL', 'D', 'R', 'U', 'DL', 'R', 'DL', 'UL', 'DR', 'U']\n",
      "['D', 'R', 'U', 'DL', 'UL', 'R', 'D', 'L', 'UR', 'D', 'UR', 'UL', 'DR', 'U', 'L', 'DL', 'DR', 'L', 'DL', 'R', 'L', 'UR', 'R', 'D', 'L', 'UR', 'UL', 'D', 'R', 'U', 'DL', 'R', 'DL', 'UL', 'DR', 'U', 'DL']\n",
      "['D', 'R', 'U', 'DL', 'UL', 'R', 'D', 'L', 'UR', 'D', 'UR', 'UL', 'DR', 'U', 'L', 'DL', 'DR', 'L', 'DL', 'R', 'L', 'UR', 'R', 'D', 'L', 'UR', 'UL', 'D', 'R', 'U', 'DL', 'R', 'DL', 'UL', 'DR', 'U', 'DL', 'L']\n",
      "['D', 'R', 'U', 'DL', 'UL', 'R', 'D', 'L', 'UR', 'D', 'UR', 'UL', 'DR', 'U', 'L', 'DL', 'DR', 'L', 'DL', 'R', 'L', 'UR', 'R', 'D', 'L', 'UR', 'UL', 'D', 'R', 'U', 'DL', 'R', 'DL', 'UL', 'DR', 'U', 'DL', 'L', 'U']\n",
      "['D', 'R', 'U', 'DL', 'UL', 'R', 'D', 'L', 'UR', 'D', 'UR', 'UL', 'DR', 'U', 'L', 'DL', 'DR', 'L', 'DL', 'R', 'L', 'UR', 'R', 'D', 'L', 'UR', 'UL', 'D', 'R', 'U', 'DL', 'R', 'DL', 'UL', 'DR', 'U', 'DL', 'L', 'U', 'UR']\n",
      "['D', 'R', 'U', 'DL', 'UL', 'R', 'D', 'L', 'UR', 'D', 'UR', 'UL', 'DR', 'U', 'L', 'DL', 'DR', 'L', 'DL', 'R', 'L', 'UR', 'R', 'D', 'L', 'UR', 'UL', 'D', 'R', 'U', 'DL', 'R', 'DL', 'UL', 'DR', 'U', 'DL', 'L', 'U', 'UR', 'UR']\n",
      "['D', 'R', 'U', 'DL', 'UL', 'R', 'D', 'L', 'UR', 'D', 'UR', 'UL', 'DR', 'U', 'L', 'DL', 'DR', 'L', 'DL', 'R', 'L', 'UR', 'R', 'D', 'L', 'UR', 'UL', 'D', 'R', 'U', 'DL', 'R', 'DL', 'UL', 'DR', 'U', 'DL', 'L', 'U', 'UR', 'UR', 'D']\n",
      "['D', 'R', 'U', 'DL', 'UL', 'R', 'D', 'L', 'UR', 'D', 'UR', 'UL', 'DR', 'U', 'L', 'DL', 'DR', 'L', 'DL', 'R', 'L', 'UR', 'R', 'D', 'L', 'UR', 'UL', 'D', 'R', 'U', 'DL', 'R', 'DL', 'UL', 'DR', 'U', 'DL', 'L', 'U', 'UR', 'UR', 'D', 'DR']\n",
      "['D', 'R', 'U', 'DL', 'UL', 'R', 'D', 'L', 'UR', 'D', 'UR', 'UL', 'DR', 'U', 'L', 'DL', 'DR', 'L', 'DL', 'R', 'L', 'UR', 'R', 'D', 'L', 'UR', 'UL', 'D', 'R', 'U', 'DL', 'R', 'DL', 'UL', 'DR', 'U', 'DL', 'L', 'U', 'UR', 'UR', 'D', 'DR', 'U']\n",
      "['D', 'R', 'U', 'DL', 'UL', 'R', 'D', 'L', 'UR', 'D', 'UR', 'UL', 'DR', 'U', 'L', 'DL', 'DR', 'L', 'DL', 'R', 'L', 'UR', 'R', 'D', 'L', 'UR', 'UL', 'D', 'R', 'U', 'DL', 'R', 'DL', 'UL', 'DR', 'U', 'DL', 'L', 'U', 'UR', 'UR', 'D', 'DR', 'U', 'DR']\n",
      "['D', 'R', 'U', 'DL', 'UL', 'R', 'D', 'L', 'UR', 'D', 'UR', 'UL', 'DR', 'U', 'L', 'DL', 'DR', 'L', 'DL', 'R', 'L', 'UR', 'R', 'D', 'L', 'UR', 'UL', 'D', 'R', 'U', 'DL', 'R', 'DL', 'UL', 'DR', 'U', 'DL', 'L', 'U', 'UR', 'UR', 'D', 'DR', 'U', 'DR', 'UR']\n",
      "['D', 'R', 'U', 'DL', 'UL', 'R', 'D', 'L', 'UR', 'D', 'UR', 'UL', 'DR', 'U', 'L', 'DL', 'DR', 'L', 'DL', 'R', 'L', 'UR', 'R', 'D', 'L', 'UR', 'UL', 'D', 'R', 'U', 'DL', 'R', 'DL', 'UL', 'DR', 'U', 'DL', 'L', 'U', 'UR', 'UR', 'D', 'DR', 'U', 'DR', 'UR', 'D']\n",
      "['D', 'R', 'U', 'DL', 'UL', 'R', 'D', 'L', 'UR', 'D', 'UR', 'UL', 'DR', 'U', 'L', 'DL', 'DR', 'L', 'DL', 'R', 'L', 'UR', 'R', 'D', 'L', 'UR', 'UL', 'D', 'R', 'U', 'DL', 'R', 'DL', 'UL', 'DR', 'U', 'DL', 'L', 'U', 'UR', 'UR', 'D', 'DR', 'U', 'DR', 'UR', 'D', 'L']\n",
      "['D', 'R', 'U', 'DL', 'UL', 'R', 'D', 'L', 'UR', 'D', 'UR', 'UL', 'DR', 'U', 'L', 'DL', 'DR', 'L', 'DL', 'R', 'L', 'UR', 'R', 'D', 'L', 'UR', 'UL', 'D', 'R', 'U', 'DL', 'R', 'DL', 'UL', 'DR', 'U', 'DL', 'L', 'U', 'UR', 'UR', 'D', 'DR', 'U', 'DR', 'UR', 'D', 'L', 'UL']\n",
      "['D', 'R', 'U', 'DL', 'UL', 'R', 'D', 'L', 'UR', 'D', 'UR', 'UL', 'DR', 'U', 'L', 'DL', 'DR', 'L', 'DL', 'R', 'L', 'UR', 'R', 'D', 'L', 'UR', 'UL', 'D', 'R', 'U', 'DL', 'R', 'DL', 'UL', 'DR', 'U', 'DL', 'L', 'U', 'UR', 'UR', 'D', 'DR', 'U', 'DR', 'UR', 'D', 'L', 'UL', 'DL']\n",
      "['D', 'R', 'U', 'DL', 'UL', 'R', 'D', 'L', 'UR', 'D', 'UR', 'UL', 'DR', 'U', 'L', 'DL', 'DR', 'L', 'DL', 'R', 'L', 'UR', 'R', 'D', 'L', 'UR', 'UL', 'D', 'R', 'U', 'DL', 'R', 'DL', 'UL', 'DR', 'U', 'DL', 'L', 'U', 'UR', 'UR', 'D', 'DR', 'U', 'DR', 'UR', 'D', 'L', 'UL', 'DL', 'R']\n",
      "['D', 'R', 'U', 'DL', 'UL', 'R', 'D', 'L', 'UR', 'D', 'UR', 'UL', 'DR', 'U', 'L', 'DL', 'DR', 'L', 'DL', 'R', 'L', 'UR', 'R', 'D', 'L', 'UR', 'UL', 'D', 'R', 'U', 'DL', 'R', 'DL', 'UL', 'DR', 'U', 'DL', 'L', 'U', 'UR', 'UR', 'D', 'DR', 'U', 'DR', 'UR', 'D', 'L', 'UL', 'DL', 'R', 'L']\n",
      "['D', 'R', 'U', 'DL', 'UL', 'R', 'D', 'L', 'UR', 'D', 'UR', 'UL', 'DR', 'U', 'L', 'DL', 'DR', 'L', 'DL', 'R', 'L', 'UR', 'R', 'D', 'L', 'UR', 'UL', 'D', 'R', 'U', 'DL', 'R', 'DL', 'UL', 'DR', 'U', 'DL', 'L', 'U', 'UR', 'UR', 'D', 'DR', 'U', 'DR', 'UR', 'D', 'L', 'UL', 'DL', 'R', 'L', 'DR']\n",
      "['D', 'R', 'U', 'DL', 'UL', 'R', 'D', 'L', 'UR', 'D', 'UR', 'UL', 'DR', 'U', 'L', 'DL', 'DR', 'L', 'DL', 'R', 'L', 'UR', 'R', 'D', 'L', 'UR', 'UL', 'D', 'R', 'U', 'DL', 'R', 'DL', 'UL', 'DR', 'U', 'DL', 'L', 'U', 'UR', 'UR', 'D', 'DR', 'U', 'DR', 'UR', 'D', 'L', 'UL', 'DL', 'R', 'L', 'DR', 'DL']\n",
      "['D', 'R', 'U', 'DL', 'UL', 'R', 'D', 'L', 'UR', 'D', 'UR', 'UL', 'DR', 'U', 'L', 'DL', 'DR', 'L', 'DL', 'R', 'L', 'UR', 'R', 'D', 'L', 'UR', 'UL', 'D', 'R', 'U', 'DL', 'R', 'DL', 'UL', 'DR', 'U', 'DL', 'L', 'U', 'UR', 'UR', 'D', 'DR', 'U', 'DR', 'UR', 'D', 'L', 'UL', 'DL', 'R', 'L', 'DR', 'DL', 'R']\n",
      "['D', 'R', 'U', 'DL', 'UL', 'R', 'D', 'L', 'UR', 'D', 'UR', 'UL', 'DR', 'U', 'L', 'DL', 'DR', 'L', 'DL', 'R', 'L', 'UR', 'R', 'D', 'L', 'UR', 'UL', 'D', 'R', 'U', 'DL', 'R', 'DL', 'UL', 'DR', 'U', 'DL', 'L', 'U', 'UR', 'UR', 'D', 'DR', 'U', 'DR', 'UR', 'D', 'L', 'UL', 'DL', 'R', 'L', 'DR', 'DL', 'R', 'U']\n",
      "['D', 'R', 'U', 'DL', 'UL', 'R', 'D', 'L', 'UR', 'D', 'UR', 'UL', 'DR', 'U', 'L', 'DL', 'DR', 'L', 'DL', 'R', 'L', 'UR', 'R', 'D', 'L', 'UR', 'UL', 'D', 'R', 'U', 'DL', 'R', 'DL', 'UL', 'DR', 'U', 'DL', 'L', 'U', 'UR', 'UR', 'D', 'DR', 'U', 'DR', 'UR', 'D', 'L', 'UL', 'DL', 'R', 'L', 'DR', 'DL', 'R', 'U', 'DR']\n",
      "['D', 'R', 'U', 'DL', 'UL', 'R', 'D', 'L', 'UR', 'D', 'UR', 'UL', 'DR', 'U', 'L', 'DL', 'DR', 'L', 'DL', 'R', 'L', 'UR', 'R', 'D', 'L', 'UR', 'UL', 'D', 'R', 'U', 'DL', 'R', 'DL', 'UL', 'DR', 'U', 'DL', 'L', 'U', 'UR', 'UR', 'D', 'DR', 'U', 'DR', 'UR', 'D', 'L', 'UL', 'DL', 'R', 'L', 'DR', 'DL', 'R', 'U', 'DR', 'U']\n",
      "['D', 'R', 'U', 'DL', 'UL', 'R', 'D', 'L', 'UR', 'D', 'UR', 'UL', 'DR', 'U', 'L', 'DL', 'DR', 'L', 'DL', 'R', 'L', 'UR', 'R', 'D', 'L', 'UR', 'UL', 'D', 'R', 'U', 'DL', 'R', 'DL', 'UL', 'DR', 'U', 'DL', 'L', 'U', 'UR', 'UR', 'D', 'DR', 'U', 'DR', 'UR', 'D', 'L', 'UL', 'DL', 'R', 'L', 'DR', 'DL', 'R', 'U', 'DR', 'U', 'DL']\n",
      "['D', 'R', 'U', 'DL', 'UL', 'R', 'D', 'L', 'UR', 'D', 'UR', 'UL', 'DR', 'U', 'L', 'DL', 'DR', 'L', 'DL', 'R', 'L', 'UR', 'R', 'D', 'L', 'UR', 'UL', 'D', 'R', 'U', 'DL', 'R', 'DL', 'UL', 'DR', 'U', 'DL', 'L', 'U', 'UR', 'UR', 'D', 'DR', 'U', 'DR', 'UR', 'D', 'L', 'UL', 'DL', 'R', 'L', 'DR', 'DL', 'R', 'U', 'DR', 'U', 'DL', 'UL']\n",
      "['D', 'R', 'U', 'DL', 'UL', 'R', 'D', 'L', 'UR', 'D', 'UR', 'UL', 'DR', 'U', 'L', 'DL', 'DR', 'L', 'DL', 'R', 'L', 'UR', 'R', 'D', 'L', 'UR', 'UL', 'D', 'R', 'U', 'DL', 'R', 'DL', 'UL', 'DR', 'U', 'DL', 'L', 'U', 'UR', 'UR', 'D', 'DR', 'U', 'DR', 'UR', 'D', 'L', 'UL', 'DL', 'R', 'L', 'DR', 'DL', 'R', 'U', 'DR', 'U', 'DL', 'UL', 'D']\n",
      "['D', 'R', 'U', 'DL', 'UL', 'R', 'D', 'L', 'UR', 'D', 'UR', 'UL', 'DR', 'U', 'L', 'DL', 'DR', 'L', 'DL', 'R', 'L', 'UR', 'R', 'D', 'L', 'UR', 'UL', 'D', 'R', 'U', 'DL', 'R', 'DL', 'UL', 'DR', 'U', 'DL', 'L', 'U', 'UR', 'UR', 'D', 'DR', 'U', 'DR', 'UR', 'D', 'L', 'UL', 'DL', 'R', 'L', 'DR', 'DL', 'R', 'U', 'DR', 'U', 'DL', 'UL', 'D', 'R']\n",
      "['D', 'R', 'U', 'DL', 'UL', 'R', 'D', 'L', 'UR', 'D', 'UR', 'UL', 'DR', 'U', 'L', 'DL', 'DR', 'L', 'DL', 'R', 'L', 'UR', 'R', 'D', 'L', 'UR', 'UL', 'D', 'R', 'U', 'DL', 'R', 'DL', 'UL', 'DR', 'U', 'DL', 'L', 'U', 'UR', 'UR', 'D', 'DR', 'U', 'DR', 'UR', 'D', 'L', 'UL', 'DL', 'R', 'L', 'DR', 'DL', 'R', 'U', 'DR', 'U', 'DL', 'UL', 'D', 'R', 'L']\n",
      "['D', 'R', 'U', 'DL', 'UL', 'R', 'D', 'L', 'UR', 'D', 'UR', 'UL', 'DR', 'U', 'L', 'DL', 'DR', 'L', 'DL', 'R', 'L', 'UR', 'R', 'D', 'L', 'UR', 'UL', 'D', 'R', 'U', 'DL', 'R', 'DL', 'UL', 'DR', 'U', 'DL', 'L', 'U', 'UR', 'UR', 'D', 'DR', 'U', 'DR', 'UR', 'D', 'L', 'UL', 'DL', 'R', 'L', 'DR', 'DL', 'R', 'U', 'DR', 'U', 'DL', 'UL', 'D', 'R', 'L', 'UR']\n",
      "['D', 'R', 'U', 'DL', 'UL', 'R', 'D', 'L', 'UR', 'D', 'UR', 'UL', 'DR', 'U', 'L', 'DL', 'DR', 'L', 'DL', 'R', 'L', 'UR', 'R', 'D', 'L', 'UR', 'UL', 'D', 'R', 'U', 'DL', 'R', 'DL', 'UL', 'DR', 'U', 'DL', 'L', 'U', 'UR', 'UR', 'D', 'DR', 'U', 'DR', 'UR', 'D', 'L', 'UL', 'DL', 'R', 'L', 'DR', 'DL', 'R', 'U', 'DR', 'U', 'DL', 'UL', 'D', 'R', 'L', 'UR', 'UL']\n",
      "['D', 'R', 'U', 'DL', 'UL', 'R', 'D', 'L', 'UR', 'D', 'UR', 'UL', 'DR', 'U', 'L', 'DL', 'DR', 'L', 'DL', 'R', 'L', 'UR', 'R', 'D', 'L', 'UR', 'UL', 'D', 'R', 'U', 'DL', 'R', 'DL', 'UL', 'DR', 'U', 'DL', 'L', 'U', 'UR', 'UR', 'D', 'DR', 'U', 'DR', 'UR', 'D', 'L', 'UL', 'DL', 'R', 'L', 'DR', 'DL', 'R', 'U', 'DR', 'U', 'DL', 'UL', 'D', 'R', 'L', 'UR', 'UL', 'R']\n",
      "['D', 'R', 'U', 'DL', 'UL', 'R', 'D', 'L', 'UR', 'D', 'UR', 'UL', 'DR', 'U', 'L', 'DL', 'DR', 'L', 'DL', 'R', 'L', 'UR', 'R', 'D', 'L', 'UR', 'UL', 'D', 'R', 'U', 'DL', 'R', 'DL', 'UL', 'DR', 'U', 'DL', 'L', 'U', 'UR', 'UR', 'D', 'DR', 'U', 'DR', 'UR', 'D', 'L', 'UL', 'DL', 'R', 'L', 'DR', 'DL', 'R', 'U', 'DR', 'U', 'DL', 'UL', 'D', 'R', 'L', 'UR', 'UL', 'R', 'D']\n",
      "['D', 'R', 'U', 'DL', 'UL', 'R', 'D', 'L', 'UR', 'D', 'UR', 'UL', 'DR', 'U', 'L', 'DL', 'DR', 'L', 'DL', 'R', 'L', 'UR', 'R', 'D', 'L', 'UR', 'UL', 'D', 'R', 'U', 'DL', 'R', 'DL', 'UL', 'DR', 'U', 'DL', 'L', 'U', 'UR', 'UR', 'D', 'DR', 'U', 'DR', 'UR', 'D', 'L', 'UL', 'DL', 'R', 'L', 'DR', 'DL', 'R', 'U', 'DR', 'U', 'DL', 'UL', 'D', 'R', 'L', 'UR', 'UL', 'R', 'D', 'DL']\n",
      "['D', 'R', 'U', 'DL', 'UL', 'R', 'D', 'L', 'UR', 'D', 'UR', 'UL', 'DR', 'U', 'L', 'DL', 'DR', 'L', 'DL', 'R', 'L', 'UR', 'R', 'D', 'L', 'UR', 'UL', 'D', 'R', 'U', 'DL', 'R', 'DL', 'UL', 'DR', 'U', 'DL', 'L', 'U', 'UR', 'UR', 'D', 'DR', 'U', 'DR', 'UR', 'D', 'L', 'UL', 'DL', 'R', 'L', 'DR', 'DL', 'R', 'U', 'DR', 'U', 'DL', 'UL', 'D', 'R', 'L', 'UR', 'UL', 'R', 'D', 'DL', 'U']\n",
      "['D', 'R', 'U', 'DL', 'UL', 'R', 'D', 'L', 'UR', 'D', 'UR', 'UL', 'DR', 'U', 'L', 'DL', 'DR', 'L', 'DL', 'R', 'L', 'UR', 'R', 'D', 'L', 'UR', 'UL', 'D', 'R', 'U', 'DL', 'R', 'DL', 'UL', 'DR', 'U', 'DL', 'L', 'U', 'UR', 'UR', 'D', 'DR', 'U', 'DR', 'UR', 'D', 'L', 'UL', 'DL', 'R', 'L', 'DR', 'DL', 'R', 'U', 'DR', 'U', 'DL', 'UL', 'D', 'R', 'L', 'UR', 'UL', 'R', 'D', 'DL', 'U', 'DR']\n",
      "['D', 'R', 'U', 'DL', 'UL', 'R', 'D', 'L', 'UR', 'D', 'UR', 'UL', 'DR', 'U', 'L', 'DL', 'DR', 'L', 'DL', 'R', 'L', 'UR', 'R', 'D', 'L', 'UR', 'UL', 'D', 'R', 'U', 'DL', 'R', 'DL', 'UL', 'DR', 'U', 'DL', 'L', 'U', 'UR', 'UR', 'D', 'DR', 'U', 'DR', 'UR', 'D', 'L', 'UL', 'DL', 'R', 'L', 'DR', 'DL', 'R', 'U', 'DR', 'U', 'DL', 'UL', 'D', 'R', 'L', 'UR', 'UL', 'R', 'D', 'DL', 'U', 'DR', 'UR']\n",
      "['D', 'R', 'U', 'DL', 'UL', 'R', 'D', 'L', 'UR', 'D', 'UR', 'UL', 'DR', 'U', 'L', 'DL', 'DR', 'L', 'DL', 'R', 'L', 'UR', 'R', 'D', 'L', 'UR', 'UL', 'D', 'R', 'U', 'DL', 'R', 'DL', 'UL', 'DR', 'U', 'DL', 'L', 'U', 'UR', 'UR', 'D', 'DR', 'U', 'DR', 'UR', 'D', 'L', 'UL', 'DL', 'R', 'L', 'DR', 'DL', 'R', 'U', 'DR', 'U', 'DL', 'UL', 'D', 'R', 'L', 'UR', 'UL', 'R', 'D', 'DL', 'U', 'DR', 'UR', 'D']\n",
      "['D', 'R', 'U', 'DL', 'UL', 'R', 'D', 'L', 'UR', 'D', 'UR', 'UL', 'DR', 'U', 'L', 'DL', 'DR', 'L', 'DL', 'R', 'L', 'UR', 'R', 'D', 'L', 'UR', 'UL', 'D', 'R', 'U', 'DL', 'R', 'DL', 'UL', 'DR', 'U', 'DL', 'L', 'U', 'UR', 'UR', 'D', 'DR', 'U', 'DR', 'UR', 'D', 'L', 'UL', 'DL', 'R', 'L', 'DR', 'DL', 'R', 'U', 'DR', 'U', 'DL', 'UL', 'D', 'R', 'L', 'UR', 'UL', 'R', 'D', 'DL', 'U', 'DR', 'UR', 'D', 'L']\n",
      "['D', 'R', 'U', 'DL', 'UL', 'R', 'D', 'L', 'UR', 'D', 'UR', 'UL', 'DR', 'U', 'L', 'DL', 'DR', 'L', 'DL', 'R', 'L', 'UR', 'R', 'D', 'L', 'UR', 'UL', 'D', 'R', 'U', 'DL', 'R', 'DL', 'UL', 'DR', 'U', 'DL', 'L', 'U', 'UR', 'UR', 'D', 'DR', 'U', 'DR', 'UR', 'D', 'L', 'UL', 'DL', 'R', 'L', 'DR', 'DL', 'R', 'U', 'DR', 'U', 'DL', 'UL', 'D', 'R', 'L', 'UR', 'UL', 'R', 'D', 'DL', 'U', 'DR', 'UR', 'D', 'L', 'R']\n",
      "['D', 'R', 'U', 'DL', 'UL', 'R', 'D', 'L', 'UR', 'D', 'UR', 'UL', 'DR', 'U', 'L', 'DL', 'DR', 'L', 'DL', 'R', 'L', 'UR', 'R', 'D', 'L', 'UR', 'UL', 'D', 'R', 'U', 'DL', 'R', 'DL', 'UL', 'DR', 'U', 'DL', 'L', 'U', 'UR', 'UR', 'D', 'DR', 'U', 'DR', 'UR', 'D', 'L', 'UL', 'DL', 'R', 'L', 'DR', 'DL', 'R', 'U', 'DR', 'U', 'DL', 'UL', 'D', 'R', 'L', 'UR', 'UL', 'R', 'D', 'DL', 'U', 'DR', 'UR', 'D', 'L', 'R', 'U']\n",
      "['D', 'R', 'U', 'DL', 'UL', 'R', 'D', 'L', 'UR', 'D', 'UR', 'UL', 'DR', 'U', 'L', 'DL', 'DR', 'L', 'DL', 'R', 'L', 'UR', 'R', 'D', 'L', 'UR', 'UL', 'D', 'R', 'U', 'DL', 'R', 'DL', 'UL', 'DR', 'U', 'DL', 'L', 'U', 'UR', 'UR', 'D', 'DR', 'U', 'DR', 'UR', 'D', 'L', 'UL', 'DL', 'R', 'L', 'DR', 'DL', 'R', 'U', 'DR', 'U', 'DL', 'UL', 'D', 'R', 'L', 'UR', 'UL', 'R', 'D', 'DL', 'U', 'DR', 'UR', 'D', 'L', 'R', 'U', 'UL']\n",
      "['D', 'R', 'U', 'DL', 'UL', 'R', 'D', 'L', 'UR', 'D', 'UR', 'UL', 'DR', 'U', 'L', 'DL', 'DR', 'L', 'DL', 'R', 'L', 'UR', 'R', 'D', 'L', 'UR', 'UL', 'D', 'R', 'U', 'DL', 'R', 'DL', 'UL', 'DR', 'U', 'DL', 'L', 'U', 'UR', 'UR', 'D', 'DR', 'U', 'DR', 'UR', 'D', 'L', 'UL', 'DL', 'R', 'L', 'DR', 'DL', 'R', 'U', 'DR', 'U', 'DL', 'UL', 'D', 'R', 'L', 'UR', 'UL', 'R', 'D', 'DL', 'U', 'DR', 'UR', 'D', 'L', 'R', 'U', 'UL', 'UR']\n",
      "['D', 'R', 'U', 'DL', 'UL', 'R', 'D', 'L', 'UR', 'D', 'UR', 'UL', 'DR', 'U', 'L', 'DL', 'DR', 'L', 'DL', 'R', 'L', 'UR', 'R', 'D', 'L', 'UR', 'UL', 'D', 'R', 'U', 'DL', 'R', 'DL', 'UL', 'DR', 'U', 'DL', 'L', 'U', 'UR', 'UR', 'D', 'DR', 'U', 'DR', 'UR', 'D', 'L', 'UL', 'DL', 'R', 'L', 'DR', 'DL', 'R', 'U', 'DR', 'U', 'DL', 'UL', 'D', 'R', 'L', 'UR', 'UL', 'R', 'D', 'DL', 'U', 'DR', 'UR', 'D', 'L', 'R', 'U', 'UL', 'UR', 'D']\n"
     ]
    },
    {
     "data": {
      "text/plain": [
       "(False,\n",
       " ['D',\n",
       "  'R',\n",
       "  'U',\n",
       "  'DL',\n",
       "  'UL',\n",
       "  'R',\n",
       "  'D',\n",
       "  'L',\n",
       "  'UR',\n",
       "  'D',\n",
       "  'UR',\n",
       "  'UL',\n",
       "  'DR',\n",
       "  'U',\n",
       "  'L',\n",
       "  'DL',\n",
       "  'DR',\n",
       "  'L',\n",
       "  'DL',\n",
       "  'R',\n",
       "  'L',\n",
       "  'UR',\n",
       "  'R',\n",
       "  'D',\n",
       "  'L',\n",
       "  'UR',\n",
       "  'UL',\n",
       "  'D',\n",
       "  'R',\n",
       "  'U',\n",
       "  'DL',\n",
       "  'R',\n",
       "  'DL',\n",
       "  'UL',\n",
       "  'DR',\n",
       "  'U',\n",
       "  'DL',\n",
       "  'L',\n",
       "  'U',\n",
       "  'UR',\n",
       "  'UR',\n",
       "  'D',\n",
       "  'DR',\n",
       "  'U',\n",
       "  'DR',\n",
       "  'UR',\n",
       "  'D',\n",
       "  'L',\n",
       "  'UL',\n",
       "  'DL',\n",
       "  'R',\n",
       "  'L',\n",
       "  'DR',\n",
       "  'DL',\n",
       "  'R',\n",
       "  'U',\n",
       "  'DR',\n",
       "  'U',\n",
       "  'DL',\n",
       "  'UL',\n",
       "  'D',\n",
       "  'R',\n",
       "  'L',\n",
       "  'UR',\n",
       "  'UL',\n",
       "  'R',\n",
       "  'D',\n",
       "  'DL',\n",
       "  'U',\n",
       "  'DR',\n",
       "  'UR',\n",
       "  'D',\n",
       "  'L',\n",
       "  'R',\n",
       "  'U',\n",
       "  'UL',\n",
       "  'UR',\n",
       "  'D'])"
      ]
     },
     "execution_count": 56,
     "metadata": {},
     "output_type": "execute_result"
    }
   ],
   "source": [
    "try_run([0,0])"
   ]
  },
  {
   "cell_type": "code",
   "execution_count": null,
   "metadata": {},
   "outputs": [],
   "source": []
  }
 ],
 "metadata": {
  "kernelspec": {
   "display_name": "Python 3",
   "language": "python",
   "name": "python3"
  },
  "language_info": {
   "codemirror_mode": {
    "name": "ipython",
    "version": 3
   },
   "file_extension": ".py",
   "mimetype": "text/x-python",
   "name": "python",
   "nbconvert_exporter": "python",
   "pygments_lexer": "ipython3",
   "version": "3.7.1"
  }
 },
 "nbformat": 4,
 "nbformat_minor": 2
}
